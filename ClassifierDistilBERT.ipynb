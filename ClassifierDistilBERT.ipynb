{
  "nbformat": 4,
  "nbformat_minor": 0,
  "metadata": {
    "colab": {
      "name": "StumblingAgain.ipynb",
      "provenance": [],
      "collapsed_sections": [],
      "authorship_tag": "ABX9TyPZXcvHTwc+2NSs2YlivImg",
      "include_colab_link": true
    },
    "kernelspec": {
      "name": "python3",
      "display_name": "Python 3"
    },
    "accelerator": "GPU"
  },
  "cells": [
    {
      "cell_type": "markdown",
      "metadata": {
        "id": "view-in-github",
        "colab_type": "text"
      },
      "source": [
        "<a href=\"https://colab.research.google.com/github/TinySuitStarfishAbhi/StumbleUponClassifier/blob/master/ClassifierDistilBERT.ipynb\" target=\"_parent\"><img src=\"https://colab.research.google.com/assets/colab-badge.svg\" alt=\"Open In Colab\"/></a>"
      ]
    },
    {
      "cell_type": "markdown",
      "metadata": {
        "id": "ZA5DrAmWIpmA"
      },
      "source": [
        "Importing all required libraries and frameworks.\r\n",
        "Installing \"Transformers\" "
      ]
    },
    {
      "cell_type": "code",
      "metadata": {
        "colab": {
          "base_uri": "https://localhost:8080/"
        },
        "id": "NeS-dpIg96nK",
        "outputId": "ee17cd96-5e9e-464c-9a62-aaa3818d88cc"
      },
      "source": [
        "!pip install transformers"
      ],
      "execution_count": 266,
      "outputs": [
        {
          "output_type": "stream",
          "text": [
            "Requirement already satisfied: transformers in /usr/local/lib/python3.6/dist-packages (4.3.2)\n",
            "Requirement already satisfied: numpy>=1.17 in /usr/local/lib/python3.6/dist-packages (from transformers) (1.19.5)\n",
            "Requirement already satisfied: tqdm>=4.27 in /usr/local/lib/python3.6/dist-packages (from transformers) (4.41.1)\n",
            "Requirement already satisfied: filelock in /usr/local/lib/python3.6/dist-packages (from transformers) (3.0.12)\n",
            "Requirement already satisfied: packaging in /usr/local/lib/python3.6/dist-packages (from transformers) (20.9)\n",
            "Requirement already satisfied: requests in /usr/local/lib/python3.6/dist-packages (from transformers) (2.23.0)\n",
            "Requirement already satisfied: sacremoses in /usr/local/lib/python3.6/dist-packages (from transformers) (0.0.43)\n",
            "Requirement already satisfied: tokenizers<0.11,>=0.10.1 in /usr/local/lib/python3.6/dist-packages (from transformers) (0.10.1)\n",
            "Requirement already satisfied: regex!=2019.12.17 in /usr/local/lib/python3.6/dist-packages (from transformers) (2019.12.20)\n",
            "Requirement already satisfied: importlib-metadata; python_version < \"3.8\" in /usr/local/lib/python3.6/dist-packages (from transformers) (3.4.0)\n",
            "Requirement already satisfied: dataclasses; python_version < \"3.7\" in /usr/local/lib/python3.6/dist-packages (from transformers) (0.8)\n",
            "Requirement already satisfied: pyparsing>=2.0.2 in /usr/local/lib/python3.6/dist-packages (from packaging->transformers) (2.4.7)\n",
            "Requirement already satisfied: certifi>=2017.4.17 in /usr/local/lib/python3.6/dist-packages (from requests->transformers) (2020.12.5)\n",
            "Requirement already satisfied: chardet<4,>=3.0.2 in /usr/local/lib/python3.6/dist-packages (from requests->transformers) (3.0.4)\n",
            "Requirement already satisfied: urllib3!=1.25.0,!=1.25.1,<1.26,>=1.21.1 in /usr/local/lib/python3.6/dist-packages (from requests->transformers) (1.24.3)\n",
            "Requirement already satisfied: idna<3,>=2.5 in /usr/local/lib/python3.6/dist-packages (from requests->transformers) (2.10)\n",
            "Requirement already satisfied: joblib in /usr/local/lib/python3.6/dist-packages (from sacremoses->transformers) (1.0.0)\n",
            "Requirement already satisfied: click in /usr/local/lib/python3.6/dist-packages (from sacremoses->transformers) (7.1.2)\n",
            "Requirement already satisfied: six in /usr/local/lib/python3.6/dist-packages (from sacremoses->transformers) (1.15.0)\n",
            "Requirement already satisfied: zipp>=0.5 in /usr/local/lib/python3.6/dist-packages (from importlib-metadata; python_version < \"3.8\"->transformers) (3.4.0)\n",
            "Requirement already satisfied: typing-extensions>=3.6.4; python_version < \"3.8\" in /usr/local/lib/python3.6/dist-packages (from importlib-metadata; python_version < \"3.8\"->transformers) (3.7.4.3)\n"
          ],
          "name": "stdout"
        }
      ]
    },
    {
      "cell_type": "code",
      "metadata": {
        "colab": {
          "base_uri": "https://localhost:8080/"
        },
        "id": "1S2Wg5uS7TKz",
        "outputId": "47e8a8ac-7561-44ae-ba81-818889d62ebe"
      },
      "source": [
        "import os\r\n",
        "import re\r\n",
        "\r\n",
        "import numpy as np\r\n",
        "import pandas as pd\r\n",
        "import seaborn as sns\r\n",
        "import matplotlib.pyplot as plt\r\n",
        "\r\n",
        "from sklearn.utils import shuffle\r\n",
        "from sklearn.model_selection import train_test_split\r\n",
        "from sklearn.metrics import confusion_matrix, f1_score, classification_report\r\n",
        "\r\n",
        "import tensorflow as tf\r\n",
        "import keras.backend as K\r\n",
        "from tensorflow.keras.layers import Dense, Dropout, Input\r\n",
        "from tensorflow.keras import regularizers\r\n",
        "\r\n",
        "import nltk\r\n",
        "nltk.download('stopwords')\r\n",
        "from nltk.corpus import stopwords\r\n",
        "\r\n",
        "from transformers import *\r\n",
        "from transformers import TFDistilBertModel, DistilBertTokenizer, DistilBertConfig"
      ],
      "execution_count": 267,
      "outputs": [
        {
          "output_type": "stream",
          "text": [
            "[nltk_data] Downloading package stopwords to /root/nltk_data...\n",
            "[nltk_data]   Package stopwords is already up-to-date!\n"
          ],
          "name": "stdout"
        }
      ]
    },
    {
      "cell_type": "code",
      "metadata": {
        "id": "VNkeWHiL9dMd"
      },
      "source": [
        "all_data = pd.read_csv('train.tsv', delimiter = '\\t')"
      ],
      "execution_count": 268,
      "outputs": []
    },
    {
      "cell_type": "markdown",
      "metadata": {
        "id": "zb5ZK997I4b2"
      },
      "source": [
        "Some data exploration could maybe give some insights"
      ]
    },
    {
      "cell_type": "code",
      "metadata": {
        "colab": {
          "base_uri": "https://localhost:8080/"
        },
        "id": "S9Yjrt7D9g7v",
        "outputId": "1a01f68d-adfb-4be2-b706-4cfb4a694a5f"
      },
      "source": [
        "all_data.info() # to check type of data and to see whether there's any missing data"
      ],
      "execution_count": 269,
      "outputs": [
        {
          "output_type": "stream",
          "text": [
            "<class 'pandas.core.frame.DataFrame'>\n",
            "RangeIndex: 7395 entries, 0 to 7394\n",
            "Data columns (total 27 columns):\n",
            " #   Column                          Non-Null Count  Dtype  \n",
            "---  ------                          --------------  -----  \n",
            " 0   url                             7395 non-null   object \n",
            " 1   urlid                           7395 non-null   int64  \n",
            " 2   boilerplate                     7395 non-null   object \n",
            " 3   alchemy_category                7395 non-null   object \n",
            " 4   alchemy_category_score          7395 non-null   object \n",
            " 5   avglinksize                     7395 non-null   float64\n",
            " 6   commonlinkratio_1               7395 non-null   float64\n",
            " 7   commonlinkratio_2               7395 non-null   float64\n",
            " 8   commonlinkratio_3               7395 non-null   float64\n",
            " 9   commonlinkratio_4               7395 non-null   float64\n",
            " 10  compression_ratio               7395 non-null   float64\n",
            " 11  embed_ratio                     7395 non-null   float64\n",
            " 12  framebased                      7395 non-null   int64  \n",
            " 13  frameTagRatio                   7395 non-null   float64\n",
            " 14  hasDomainLink                   7395 non-null   int64  \n",
            " 15  html_ratio                      7395 non-null   float64\n",
            " 16  image_ratio                     7395 non-null   float64\n",
            " 17  is_news                         7395 non-null   object \n",
            " 18  lengthyLinkDomain               7395 non-null   int64  \n",
            " 19  linkwordscore                   7395 non-null   int64  \n",
            " 20  news_front_page                 7395 non-null   object \n",
            " 21  non_markup_alphanum_characters  7395 non-null   int64  \n",
            " 22  numberOfLinks                   7395 non-null   int64  \n",
            " 23  numwords_in_url                 7395 non-null   int64  \n",
            " 24  parametrizedLinkRatio           7395 non-null   float64\n",
            " 25  spelling_errors_ratio           7395 non-null   float64\n",
            " 26  label                           7395 non-null   int64  \n",
            "dtypes: float64(12), int64(9), object(6)\n",
            "memory usage: 1.5+ MB\n"
          ],
          "name": "stdout"
        }
      ]
    },
    {
      "cell_type": "code",
      "metadata": {
        "colab": {
          "base_uri": "https://localhost:8080/",
          "height": 606
        },
        "id": "6xANGB9O9hJL",
        "outputId": "f5f8cf75-d4e3-4aa1-a409-a95e69ad55dc"
      },
      "source": [
        "# Visualiztion to infer the Alchemy Categories corresponding to each of the labels\r\n",
        "plt.figure(figsize=(10,10))\r\n",
        "sns.countplot(y = all_data['alchemy_category'], hue = all_data['label'], palette = \"Set2\");\r\n",
        "plt.xlabel('Count Value')\r\n",
        "plt.ylabel('Category');"
      ],
      "execution_count": 270,
      "outputs": [
        {
          "output_type": "display_data",
          "data": {
            "image/png": "[encoded data removed]",
            "text/plain": [
              "<Figure size 720x720 with 1 Axes>"
            ]
          },
          "metadata": {
            "tags": [],
            "needs_background": "light"
          }
        }
      ]
    },
    {
      "cell_type": "code",
      "metadata": {
        "colab": {
          "base_uri": "https://localhost:8080/",
          "height": 451
        },
        "id": "7HIYgX18AUKf",
        "outputId": "e368f78e-6c93-4278-c2ca-ab05135f84f8"
      },
      "source": [
        "# Trying to see if there's any correlations \r\n",
        "corr = all_data.corr()\r\n",
        "sns.heatmap(corr, linewidths = 0.1, cmap = 'Blues')"
      ],
      "execution_count": 271,
      "outputs": [
        {
          "output_type": "execute_result",
          "data": {
            "text/plain": [
              "<matplotlib.axes._subplots.AxesSubplot at 0x7fc531091b00>"
            ]
          },
          "metadata": {
            "tags": []
          },
          "execution_count": 271
        },
        {
          "output_type": "display_data",
          "data": {
            "image/png": "[encoded data removed]",
            "text/plain": [
              "<Figure size 432x288 with 2 Axes>"
            ]
          },
          "metadata": {
            "tags": [],
            "needs_background": "light"
          }
        }
      ]
    },
    {
      "cell_type": "markdown",
      "metadata": {
        "id": "4FJUdmFFUnHM"
      },
      "source": [
        "Doesn't seem too much of a correlation though :("
      ]
    },
    {
      "cell_type": "code",
      "metadata": {
        "colab": {
          "base_uri": "https://localhost:8080/",
          "height": 296
        },
        "id": "REhQBLieAUXM",
        "outputId": "da41e04f-65da-4513-9e25-fdcabc7419a1"
      },
      "source": [
        "# Plot to visualize the count of each label where\r\n",
        "# 0 -> non-evergreen, 1 -> evergreen\r\n",
        "sns.countplot(x = all_data['label'], palette = \"Set1\")"
      ],
      "execution_count": 272,
      "outputs": [
        {
          "output_type": "execute_result",
          "data": {
            "text/plain": [
              "<matplotlib.axes._subplots.AxesSubplot at 0x7fc5b80bf320>"
            ]
          },
          "metadata": {
            "tags": []
          },
          "execution_count": 272
        },
        {
          "output_type": "display_data",
          "data": {
            "image/png": "[encoded data removed]",
            "text/plain": [
              "<Figure size 432x288 with 1 Axes>"
            ]
          },
          "metadata": {
            "tags": [],
            "needs_background": "light"
          }
        }
      ]
    },
    {
      "cell_type": "markdown",
      "metadata": {
        "id": "BdPeUMUnJGUC"
      },
      "source": [
        "Reading the train and test data in order to process the text data for the model to intake.\r\n",
        "---\r\n",
        "For this challenge, I'll only consider the 'boilerplate' text as the feature for the problem at hand.\r\n",
        "\r\n",
        "\r\n"
      ]
    },
    {
      "cell_type": "code",
      "metadata": {
        "id": "i0uTB6jQ9lXK"
      },
      "source": [
        "data = pd.read_csv('train.tsv', delimiter = '\\t',  usecols = ['boilerplate', 'label'])\r\n",
        "data_test = pd.read_csv('test.tsv', delimiter = '\\t', usecols = ['urlid', 'boilerplate'])"
      ],
      "execution_count": 273,
      "outputs": []
    },
    {
      "cell_type": "code",
      "metadata": {
        "id": "_-wun0xq-Qza"
      },
      "source": [
        "def cleanText(text):\r\n",
        "  \"\"\"\r\n",
        "  Function removes stopwords from the text\r\n",
        "  as well as all words of size less than 3\r\n",
        "  \"\"\"\r\n",
        "  list_stopwords = stopwords.words('english')\r\n",
        "  words = text.split() \r\n",
        "  clean_words = [word for word in words if (word not in list_stopwords) and len(word) > 2]\r\n",
        "  return \" \".join(clean_words)\r\n",
        "\r\n",
        "def preprocessText(text):\r\n",
        "  \"\"\"\r\n",
        "  Function performs the following:\r\n",
        "  Converts text to lowercase \r\n",
        "  Removes special characters, symbols and extra spaces\r\n",
        "  Calls the cleanText method to remove stopwords\r\n",
        "  \"\"\"\r\n",
        "  text = text.lower().strip()\r\n",
        "  text = re.sub(r\"([?.!,¿])\", r\" \", text)\r\n",
        "  text = re.sub(r'[\" \"]+', \" \", text)\r\n",
        "  text = re.sub(r\"[^a-zA-Z?.!,¿]+\", \" \", text)\r\n",
        "  text = cleanText(text)\r\n",
        "  text = re.sub(r'@\\w+', '',text)\r\n",
        "  return text"
      ],
      "execution_count": 274,
      "outputs": []
    },
    {
      "cell_type": "markdown",
      "metadata": {
        "id": "dW7bT0ppVdP-"
      },
      "source": [
        "Randomly shuffling the train data"
      ]
    },
    {
      "cell_type": "code",
      "metadata": {
        "id": "m-SfTyd2_vLG"
      },
      "source": [
        "data = shuffle(data)"
      ],
      "execution_count": 275,
      "outputs": []
    },
    {
      "cell_type": "markdown",
      "metadata": {
        "id": "gtv2EqEGCJPX"
      },
      "source": [
        "Applying the preprocessing methods to the train and test data"
      ]
    },
    {
      "cell_type": "code",
      "metadata": {
        "id": "GZy-7VRk_4kT"
      },
      "source": [
        "data['boilerplate'] = data['boilerplate'].map(preprocessText)\r\n",
        "data_test['boilerplate'] = data_test['boilerplate'].map(preprocessText)"
      ],
      "execution_count": 276,
      "outputs": []
    },
    {
      "cell_type": "code",
      "metadata": {
        "colab": {
          "base_uri": "https://localhost:8080/",
          "height": 204
        },
        "id": "I0ynWFVzBkU4",
        "outputId": "d2a1089f-b2a9-49a1-fc34-ddf26a5511b9"
      },
      "source": [
        "data.head()"
      ],
      "execution_count": 277,
      "outputs": [
        {
          "output_type": "execute_result",
          "data": {
            "text/html": [
              "<div>\n",
              "<style scoped>\n",
              "    .dataframe tbody tr th:only-of-type {\n",
              "        vertical-align: middle;\n",
              "    }\n",
              "\n",
              "    .dataframe tbody tr th {\n",
              "        vertical-align: top;\n",
              "    }\n",
              "\n",
              "    .dataframe thead th {\n",
              "        text-align: right;\n",
              "    }\n",
              "</style>\n",
              "<table border=\"1\" class=\"dataframe\">\n",
              "  <thead>\n",
              "    <tr style=\"text-align: right;\">\n",
              "      <th></th>\n",
              "      <th>boilerplate</th>\n",
              "      <th>label</th>\n",
              "    </tr>\n",
              "  </thead>\n",
              "  <tbody>\n",
              "    <tr>\n",
              "      <th>1680</th>\n",
              "      <td>url sportsillustrated cnn swimsuit models irin...</td>\n",
              "      <td>0</td>\n",
              "    </tr>\n",
              "    <tr>\n",
              "      <th>2879</th>\n",
              "      <td>title two peas pod chocolate chip salted caram...</td>\n",
              "      <td>1</td>\n",
              "    </tr>\n",
              "    <tr>\n",
              "      <th>3489</th>\n",
              "      <td>title newspapers world newslink body newspaper...</td>\n",
              "      <td>0</td>\n",
              "    </tr>\n",
              "    <tr>\n",
              "      <th>3915</th>\n",
              "      <td>title sage chorizo stuffing scarletta bakes bo...</td>\n",
              "      <td>1</td>\n",
              "    </tr>\n",
              "    <tr>\n",
              "      <th>2635</th>\n",
              "      <td>title displax skin turns virtually surface mul...</td>\n",
              "      <td>0</td>\n",
              "    </tr>\n",
              "  </tbody>\n",
              "</table>\n",
              "</div>"
            ],
            "text/plain": [
              "                                            boilerplate  label\n",
              "1680  url sportsillustrated cnn swimsuit models irin...      0\n",
              "2879  title two peas pod chocolate chip salted caram...      1\n",
              "3489  title newspapers world newslink body newspaper...      0\n",
              "3915  title sage chorizo stuffing scarletta bakes bo...      1\n",
              "2635  title displax skin turns virtually surface mul...      0"
            ]
          },
          "metadata": {
            "tags": []
          },
          "execution_count": 277
        }
      ]
    },
    {
      "cell_type": "code",
      "metadata": {
        "colab": {
          "base_uri": "https://localhost:8080/",
          "height": 171
        },
        "id": "b3DAv_PsJL_g",
        "outputId": "482aa1cf-5c69-4b21-82ed-640d4c81c6be"
      },
      "source": [
        "data['boilerplate'][3]"
      ],
      "execution_count": 278,
      "outputs": [
        {
          "output_type": "execute_result",
          "data": {
            "application/vnd.google.colaboratory.intrinsic+json": {
              "type": "string"
            },
            "text/plain": [
              "'title foolproof tips better sleep body period life lot problems sleep took long fall asleep easily awaken simply getting enough rest night want take medication led learn several tips tricks really helped overcome insomnia tips try follow regularly worry getting enough sleep try worry much sleep worrying start cycle negative thoughts contribute condition known learned insomnia learned insomnia occurs worry much whether able get adequate sleep bedtime rituals behavior actually trigger insomnia force sleep attempt trying actually awakes making difficult sleep bed feeling really tired sleepy look alarm clock night looking clock promotes increased anxiety obsession time body heating procedures studies suggest soaking hot water going bed ease transition deeper sleep avoid oversleep oversleep make poor night sleep even couple days reset body clock make harder sleep night sex sex well known nighttime stress reliever healthy sex life enhances relationship relaxes body releases happy chemicals even promotes wellness welcomes sleep avoid alcohol sleeping aid avoid use alcohol late evening common myth found among people believe alcohol helps sleep fact alcohol may initially act sedative produces number sleep impairing effects long run associate bed bedroom sleep sex watch eat read bed although things help people sleep also give brain idea bed sleeping keep awake naps suffer insomnia try taking nap goal sleep night napping may steal hours desired later regular napper experiencing difficulty falling staying asleep night give nap see happens written simmons healthassist net dumb little man shares ideas make everyday person productive life expect read tips finance saving money business diy house tips diy money finance advice productivity efficient technology saving software business tools url dumblittleman foolproof tips better sleep html'"
            ]
          },
          "metadata": {
            "tags": []
          },
          "execution_count": 278
        }
      ]
    },
    {
      "cell_type": "code",
      "metadata": {
        "colab": {
          "base_uri": "https://localhost:8080/",
          "height": 204
        },
        "id": "qQHATy36Y2Bs",
        "outputId": "77bc69f3-44c9-429a-ef62-ef94a3a7e8ed"
      },
      "source": [
        "data_test.head()"
      ],
      "execution_count": 279,
      "outputs": [
        {
          "output_type": "execute_result",
          "data": {
            "text/html": [
              "<div>\n",
              "<style scoped>\n",
              "    .dataframe tbody tr th:only-of-type {\n",
              "        vertical-align: middle;\n",
              "    }\n",
              "\n",
              "    .dataframe tbody tr th {\n",
              "        vertical-align: top;\n",
              "    }\n",
              "\n",
              "    .dataframe thead th {\n",
              "        text-align: right;\n",
              "    }\n",
              "</style>\n",
              "<table border=\"1\" class=\"dataframe\">\n",
              "  <thead>\n",
              "    <tr style=\"text-align: right;\">\n",
              "      <th></th>\n",
              "      <th>urlid</th>\n",
              "      <th>boilerplate</th>\n",
              "    </tr>\n",
              "  </thead>\n",
              "  <tbody>\n",
              "    <tr>\n",
              "      <th>0</th>\n",
              "      <td>5865</td>\n",
              "      <td>title homemade enchilada sauce lynn kitchen ad...</td>\n",
              "    </tr>\n",
              "    <tr>\n",
              "      <th>1</th>\n",
              "      <td>782</td>\n",
              "      <td>title lolpics stun grenade body funny pictures...</td>\n",
              "    </tr>\n",
              "    <tr>\n",
              "      <th>2</th>\n",
              "      <td>6962</td>\n",
              "      <td>title treadmills body treadmills stair climber...</td>\n",
              "    </tr>\n",
              "    <tr>\n",
              "      <th>3</th>\n",
              "      <td>7640</td>\n",
              "      <td>title father tactics used assad crush revolt t...</td>\n",
              "    </tr>\n",
              "    <tr>\n",
              "      <th>4</th>\n",
              "      <td>3589</td>\n",
              "      <td>title stem turns lemons limes juicy atomizers ...</td>\n",
              "    </tr>\n",
              "  </tbody>\n",
              "</table>\n",
              "</div>"
            ],
            "text/plain": [
              "   urlid                                        boilerplate\n",
              "0   5865  title homemade enchilada sauce lynn kitchen ad...\n",
              "1    782  title lolpics stun grenade body funny pictures...\n",
              "2   6962  title treadmills body treadmills stair climber...\n",
              "3   7640  title father tactics used assad crush revolt t...\n",
              "4   3589  title stem turns lemons limes juicy atomizers ..."
            ]
          },
          "metadata": {
            "tags": []
          },
          "execution_count": 279
        }
      ]
    },
    {
      "cell_type": "code",
      "metadata": {
        "id": "7yxSD2uVEw-E"
      },
      "source": [
        "num_classes = 2 #since we only have two categories for evergreen and non-evergreen"
      ],
      "execution_count": 280,
      "outputs": []
    },
    {
      "cell_type": "markdown",
      "metadata": {
        "id": "jXhmF7fEOTQd"
      },
      "source": [
        "Initializing the DistilBERT Tokenizer and Model"
      ]
    },
    {
      "cell_type": "code",
      "metadata": {
        "colab": {
          "base_uri": "https://localhost:8080/"
        },
        "id": "1VH0nUFaCHZp",
        "outputId": "ec50a41d-db1a-4156-e418-514c7878e569"
      },
      "source": [
        "dbert_tokenizer = DistilBertTokenizer.from_pretrained('distilbert-base-uncased')\r\n",
        "dbert_model = TFDistilBertModel.from_pretrained('distilbert-base-uncased')"
      ],
      "execution_count": 281,
      "outputs": [
        {
          "output_type": "stream",
          "text": [
            "Some layers from the model checkpoint at distilbert-base-uncased were not used when initializing TFDistilBertModel: ['vocab_projector', 'activation_13', 'vocab_layer_norm', 'vocab_transform']\n",
            "- This IS expected if you are initializing TFDistilBertModel from the checkpoint of a model trained on another task or with another architecture (e.g. initializing a BertForSequenceClassification model from a BertForPreTraining model).\n",
            "- This IS NOT expected if you are initializing TFDistilBertModel from the checkpoint of a model that you expect to be exactly identical (initializing a BertForSequenceClassification model from a BertForSequenceClassification model).\n",
            "All the layers of TFDistilBertModel were initialized from the model checkpoint at distilbert-base-uncased.\n",
            "If your task is similar to the task the model of the checkpoint was trained on, you can already use TFDistilBertModel for predictions without further training.\n"
          ],
          "name": "stderr"
        }
      ]
    },
    {
      "cell_type": "markdown",
      "metadata": {
        "id": "MCGeq-wfOZ77"
      },
      "source": [
        "Instantiating the Input parameters "
      ]
    },
    {
      "cell_type": "code",
      "metadata": {
        "colab": {
          "base_uri": "https://localhost:8080/"
        },
        "id": "pP52HdnnCnO3",
        "outputId": "318e8cbc-cb07-431e-d3f3-3dc953ae8ef3"
      },
      "source": [
        "max_len = 32 # size of each batch of text input\r\n",
        "boilerplate = data['boilerplate']\r\n",
        "boilerplate_test = data_test['boilerplate']\r\n",
        "labels = data['label']\r\n",
        "len(boilerplate), len(labels)"
      ],
      "execution_count": 282,
      "outputs": [
        {
          "output_type": "execute_result",
          "data": {
            "text/plain": [
              "(7395, 7395)"
            ]
          },
          "metadata": {
            "tags": []
          },
          "execution_count": 282
        }
      ]
    },
    {
      "cell_type": "markdown",
      "metadata": {
        "id": "OMSBsNszOe-N"
      },
      "source": [
        "Verifying the process of Tokenizing; ie creating the input ids and masks from the Tokenizer for the input and output of the DistilBERT Model.\r\n",
        "\r\n",
        "---\r\n",
        "\r\n",
        "In order to do so, I'll take a random text entry."
      ]
    },
    {
      "cell_type": "code",
      "metadata": {
        "id": "7OACpPL7DIe-",
        "colab": {
          "base_uri": "https://localhost:8080/"
        },
        "outputId": "507b7aff-39ff-4532-fe4a-8a307380501d"
      },
      "source": [
        "dbert_inp = dbert_tokenizer.encode_plus(boilerplate[31],\r\n",
        "                                        add_special_tokens = True,\r\n",
        "                                        max_length = 32,\r\n",
        "                                        padding = 'longest',\r\n",
        "                                        truncation = True)\r\n",
        "dbert_inp"
      ],
      "execution_count": 283,
      "outputs": [
        {
          "output_type": "execute_result",
          "data": {
            "text/plain": [
              "{'input_ids': [101, 2516, 2878, 10500, 7967, 15775, 2072, 14163, 15379, 2015, 7842, 2615, 10736, 20323, 2303, 2228, 27952, 2135, 20223, 2094, 2048, 3134, 3283, 5630, 2785, 14163, 15379, 8670, 3489, 4167, 2833, 102], 'attention_mask': [1, 1, 1, 1, 1, 1, 1, 1, 1, 1, 1, 1, 1, 1, 1, 1, 1, 1, 1, 1, 1, 1, 1, 1, 1, 1, 1, 1, 1, 1, 1, 1]}"
            ]
          },
          "metadata": {
            "tags": []
          },
          "execution_count": 283
        }
      ]
    },
    {
      "cell_type": "code",
      "metadata": {
        "id": "yzzixTopDVcr"
      },
      "source": [
        "id_inp = np.asarray(dbert_inp['input_ids'])\r\n",
        "mask_inp = np.asarray(dbert_inp['attention_mask'])\r\n",
        "out = dbert_model([id_inp.reshape(1,-1), mask_inp.reshape(1,-1)])"
      ],
      "execution_count": 284,
      "outputs": []
    },
    {
      "cell_type": "code",
      "metadata": {
        "colab": {
          "base_uri": "https://localhost:8080/",
          "height": 52
        },
        "id": "DX0HkZgrD1Ci",
        "outputId": "a6b651df-b6bf-4b71-ff6f-360a24e70aff"
      },
      "source": [
        "dbert_tokenizer.decode(dbert_inp['input_ids'])"
      ],
      "execution_count": 285,
      "outputs": [
        {
          "output_type": "execute_result",
          "data": {
            "application/vnd.google.colaboratory.intrinsic+json": {
              "type": "string"
            },
            "text/plain": [
              "'[CLS] title whole wheat chocolate chai muffins savvy eats body think subconsciously sabotaged two weeks ago decide kind muffin bake brain food [SEP]'"
            ]
          },
          "metadata": {
            "tags": []
          },
          "execution_count": 285
        }
      ]
    },
    {
      "cell_type": "markdown",
      "metadata": {
        "id": "yBQMWdAOPn3S"
      },
      "source": [
        "Everything is in order until now.\r\n",
        "\r\n",
        "> **Time to create a Neural Network using the DistilBERT Embeddings!**\r\n",
        "\r\n",
        "\r\n",
        "\r\n"
      ]
    },
    {
      "cell_type": "code",
      "metadata": {
        "id": "g8rJehfPD48X"
      },
      "source": [
        "def instantiateModel():\r\n",
        "    inps = Input(shape = (max_len,), dtype='int64')\r\n",
        "    masks = Input(shape = (max_len,), dtype='int64')\r\n",
        "    dbert_layer = dbert_model(inps, attention_mask=masks)[0][:,0,:]\r\n",
        "    dense = Dense(512, activation='relu', kernel_regularizer = regularizers.l2(0.01))(dbert_layer)\r\n",
        "    dropout = Dropout(0.6)(dense)\r\n",
        "    pred = Dense(num_classes, activation='softmax', kernel_regularizer=regularizers.l2(0.01))(dropout)\r\n",
        "    model = tf.keras.Model(inputs=[inps,masks], outputs = pred)\r\n",
        "    print(model.summary())\r\n",
        "    return model"
      ],
      "execution_count": 286,
      "outputs": []
    },
    {
      "cell_type": "code",
      "metadata": {
        "colab": {
          "base_uri": "https://localhost:8080/"
        },
        "id": "x6C9vJmbEBjn",
        "outputId": "592d25ad-555d-4ea5-bc49-681b89ff7cea"
      },
      "source": [
        "model = instantiateModel()"
      ],
      "execution_count": 287,
      "outputs": [
        {
          "output_type": "stream",
          "text": [
            "WARNING:tensorflow:The parameters `output_attentions`, `output_hidden_states` and `use_cache` cannot be updated when calling a model.They have to be set to True/False in the config object (i.e.: `config=XConfig.from_pretrained('name', output_attentions=True)`).\n",
            "WARNING:tensorflow:The parameter `return_dict` cannot be set in graph mode and will always be set to `True`.\n",
            "Model: \"model_8\"\n",
            "__________________________________________________________________________________________________\n",
            "Layer (type)                    Output Shape         Param #     Connected to                     \n",
            "==================================================================================================\n",
            "input_17 (InputLayer)           [(None, 32)]         0                                            \n",
            "__________________________________________________________________________________________________\n",
            "input_18 (InputLayer)           [(None, 32)]         0                                            \n",
            "__________________________________________________________________________________________________\n",
            "tf_distil_bert_model_8 (TFDisti TFBaseModelOutput(la 66362880    input_17[0][0]                   \n",
            "                                                                 input_18[0][0]                   \n",
            "__________________________________________________________________________________________________\n",
            "tf.__operators__.getitem_8 (Sli (None, 768)          0           tf_distil_bert_model_8[0][0]     \n",
            "__________________________________________________________________________________________________\n",
            "dense_16 (Dense)                (None, 512)          393728      tf.__operators__.getitem_8[0][0] \n",
            "__________________________________________________________________________________________________\n",
            "dropout_179 (Dropout)           (None, 512)          0           dense_16[0][0]                   \n",
            "__________________________________________________________________________________________________\n",
            "dense_17 (Dense)                (None, 2)            1026        dropout_179[0][0]                \n",
            "==================================================================================================\n",
            "Total params: 66,757,634\n",
            "Trainable params: 66,757,634\n",
            "Non-trainable params: 0\n",
            "__________________________________________________________________________________________________\n",
            "None\n"
          ],
          "name": "stdout"
        }
      ]
    },
    {
      "cell_type": "markdown",
      "metadata": {
        "id": "SAmo3bxjQI32"
      },
      "source": [
        "Preparing the input ids and attention masks required by DistilBERT for both the texts in training and test data, as well as the labels for the training process"
      ]
    },
    {
      "cell_type": "code",
      "metadata": {
        "colab": {
          "base_uri": "https://localhost:8080/"
        },
        "id": "L38kY_3NE3RT",
        "outputId": "2f4596bc-8f1c-489d-c2ac-6b67ff31381a"
      },
      "source": [
        "input_ids = []\r\n",
        "attention_masks = []\r\n",
        "\r\n",
        "for bt in boilerplate:\r\n",
        "    dbert_inps = dbert_tokenizer.encode_plus(bt,\r\n",
        "                                           add_special_tokens = True,\r\n",
        "                                           max_length = max_len,\r\n",
        "                                           pad_to_max_length = True,\r\n",
        "                                           return_attention_mask = True,\r\n",
        "                                           truncation=True)\r\n",
        "    \r\n",
        "    input_ids.append(dbert_inps['input_ids'])\r\n",
        "    attention_masks.append(dbert_inps['attention_mask'])\r\n",
        "\r\n",
        "input_ids = np.asarray(input_ids)\r\n",
        "attention_masks = np.array(attention_masks)\r\n",
        "labels = np.array(labels)\r\n",
        "\r\n",
        "\r\n",
        "input_ids_test = []\r\n",
        "attention_masks_test = []\r\n",
        "\r\n",
        "for btt in boilerplate_test:\r\n",
        "    dbert_inps_test = dbert_tokenizer.encode_plus(btt,\r\n",
        "                                           add_special_tokens = True,\r\n",
        "                                           max_length = max_len,\r\n",
        "                                           pad_to_max_length = True,\r\n",
        "                                           return_attention_mask = True,\r\n",
        "                                           truncation=True)\r\n",
        "    \r\n",
        "    input_ids_test.append(dbert_inps_test['input_ids'])\r\n",
        "    attention_masks_test.append(dbert_inps_test['attention_mask'])\r\n",
        "\r\n",
        "input_ids_test = np.asarray(input_ids_test)\r\n",
        "attention_masks_test = np.array(attention_masks_test)"
      ],
      "execution_count": 288,
      "outputs": [
        {
          "output_type": "stream",
          "text": [
            "/usr/local/lib/python3.6/dist-packages/transformers/tokenization_utils_base.py:2155: FutureWarning: The `pad_to_max_length` argument is deprecated and will be removed in a future version, use `padding=True` or `padding='longest'` to pad to the longest sequence in the batch, or use `padding='max_length'` to pad to a max length. In this case, you can give a specific length with `max_length` (e.g. `max_length=45`) or leave max_length to None to pad to the maximal input size of the model (e.g. 512 for Bert).\n",
            "  FutureWarning,\n"
          ],
          "name": "stderr"
        }
      ]
    },
    {
      "cell_type": "code",
      "metadata": {
        "colab": {
          "base_uri": "https://localhost:8080/"
        },
        "id": "1jqXd6TKFUzk",
        "outputId": "0bcf45d9-01d0-4620-f8c1-07f43609cb21"
      },
      "source": [
        "#len(input_ids), len(attention_masks), len(labels)\r\n",
        "len(input_ids_test), len(attention_masks_test)"
      ],
      "execution_count": 289,
      "outputs": [
        {
          "output_type": "execute_result",
          "data": {
            "text/plain": [
              "(3171, 3171)"
            ]
          },
          "metadata": {
            "tags": []
          },
          "execution_count": 289
        }
      ]
    },
    {
      "cell_type": "markdown",
      "metadata": {
        "id": "RuzO5rY7Qc3v"
      },
      "source": [
        "Dividing the train data for training and validation. Defining also the loss, metric and optimizer parameters for the model to compute with.\r\n",
        "\r\n",
        "\r\n"
      ]
    },
    {
      "cell_type": "code",
      "metadata": {
        "id": "ksoEsozyF04J"
      },
      "source": [
        "train_inp, val_inp, train_label, val_label, train_mask, val_mask = train_test_split(input_ids, \r\n",
        "                                                                                    labels,\r\n",
        "                                                                                    attention_masks,\r\n",
        "                                                                                    test_size=0.2)\r\n",
        "\r\n",
        "loss = tf.keras.losses.SparseCategoricalCrossentropy(from_logits = True)\r\n",
        "metric = tf.keras.metrics.SparseCategoricalAccuracy('accuracy')\r\n",
        "optimizer = tf.keras.optimizers.Adam(learning_rate = 3e-5)\r\n",
        "\r\n",
        "model.compile(loss = loss, optimizer = optimizer, metrics = [metric])"
      ],
      "execution_count": 290,
      "outputs": []
    },
    {
      "cell_type": "markdown",
      "metadata": {
        "id": "uXBVhleYQ4PE"
      },
      "source": [
        "Time to fit the model with the training data!"
      ]
    },
    {
      "cell_type": "code",
      "metadata": {
        "colab": {
          "base_uri": "https://localhost:8080/"
        },
        "id": "LFP837ubGJWY",
        "outputId": "5aa8c1a3-252f-4d5d-ba02-4f3abe632734"
      },
      "source": [
        "history = model.fit(\r\n",
        "    [train_inp,\r\n",
        "     train_mask],\r\n",
        "     train_label,\r\n",
        "     batch_size = 32,\r\n",
        "     epochs = 5,\r\n",
        "     validation_data = ([val_inp,val_mask], val_label))"
      ],
      "execution_count": 291,
      "outputs": [
        {
          "output_type": "stream",
          "text": [
            "Epoch 1/5\n",
            "WARNING:tensorflow:The parameters `output_attentions`, `output_hidden_states` and `use_cache` cannot be updated when calling a model.They have to be set to True/False in the config object (i.e.: `config=XConfig.from_pretrained('name', output_attentions=True)`).\n",
            "WARNING:tensorflow:The parameter `return_dict` cannot be set in graph mode and will always be set to `True`.\n",
            "WARNING:tensorflow:The parameters `output_attentions`, `output_hidden_states` and `use_cache` cannot be updated when calling a model.They have to be set to True/False in the config object (i.e.: `config=XConfig.from_pretrained('name', output_attentions=True)`).\n",
            "WARNING:tensorflow:The parameter `return_dict` cannot be set in graph mode and will always be set to `True`.\n",
            "185/185 [==============================] - ETA: 0s - loss: 6.5040 - accuracy: 0.7112WARNING:tensorflow:The parameters `output_attentions`, `output_hidden_states` and `use_cache` cannot be updated when calling a model.They have to be set to True/False in the config object (i.e.: `config=XConfig.from_pretrained('name', output_attentions=True)`).\n",
            "WARNING:tensorflow:The parameter `return_dict` cannot be set in graph mode and will always be set to `True`.\n",
            "185/185 [==============================] - 32s 137ms/step - loss: 6.5024 - accuracy: 0.7115 - val_loss: 5.7068 - val_accuracy: 0.7992\n",
            "Epoch 2/5\n",
            "185/185 [==============================] - 24s 132ms/step - loss: 5.4357 - accuracy: 0.8352 - val_loss: 4.8605 - val_accuracy: 0.8161\n",
            "Epoch 3/5\n",
            "185/185 [==============================] - 24s 132ms/step - loss: 4.5490 - accuracy: 0.8798 - val_loss: 4.2076 - val_accuracy: 0.8107\n",
            "Epoch 4/5\n",
            "185/185 [==============================] - 24s 131ms/step - loss: 3.7959 - accuracy: 0.9105 - val_loss: 3.7956 - val_accuracy: 0.8019\n",
            "Epoch 5/5\n",
            "185/185 [==============================] - 24s 132ms/step - loss: 3.1314 - accuracy: 0.9584 - val_loss: 3.3824 - val_accuracy: 0.8032\n"
          ],
          "name": "stdout"
        }
      ]
    },
    {
      "cell_type": "markdown",
      "metadata": {
        "id": "YA4x5hNCRFBY"
      },
      "source": [
        "Making predictions using the validation data set aside and obtaining the F1 Score"
      ]
    },
    {
      "cell_type": "code",
      "metadata": {
        "colab": {
          "base_uri": "https://localhost:8080/"
        },
        "id": "FDUiceCCGV4F",
        "outputId": "65a994ff-d11a-416a-d974-f03c8f6cee58"
      },
      "source": [
        "preds = model.predict([val_inp, val_mask], batch_size = 32)\r\n",
        "pred_labels = preds.argmax(axis = 1)\r\n",
        "f1 = f1_score(val_label, pred_labels)"
      ],
      "execution_count": 292,
      "outputs": [
        {
          "output_type": "stream",
          "text": [
            "WARNING:tensorflow:The parameters `output_attentions`, `output_hidden_states` and `use_cache` cannot be updated when calling a model.They have to be set to True/False in the config object (i.e.: `config=XConfig.from_pretrained('name', output_attentions=True)`).\n",
            "WARNING:tensorflow:The parameter `return_dict` cannot be set in graph mode and will always be set to `True`.\n"
          ],
          "name": "stdout"
        }
      ]
    },
    {
      "cell_type": "markdown",
      "metadata": {
        "id": "AFTHY6FWRKKk"
      },
      "source": [
        "Generating the Classification Report for the obtained results"
      ]
    },
    {
      "cell_type": "code",
      "metadata": {
        "colab": {
          "base_uri": "https://localhost:8080/"
        },
        "id": "uEizqz-WZdNR",
        "outputId": "d70b256c-a934-4015-8561-bbae7459f7b5"
      },
      "source": [
        "target_names = ['non-evergreen','evergreen']\r\n",
        "print('F1 score:', f1)\r\n",
        "print('Classification Report:')\r\n",
        "print(classification_report(val_label, pred_labels, target_names = target_names))"
      ],
      "execution_count": 293,
      "outputs": [
        {
          "output_type": "stream",
          "text": [
            "F1 score: 0.7969295184926728\n",
            "Classification Report:\n",
            "               precision    recall  f1-score   support\n",
            "\n",
            "non-evergreen       0.76      0.87      0.81       713\n",
            "    evergreen       0.86      0.75      0.80       766\n",
            "\n",
            "     accuracy                           0.80      1479\n",
            "    macro avg       0.81      0.81      0.80      1479\n",
            " weighted avg       0.81      0.80      0.80      1479\n",
            "\n"
          ],
          "name": "stdout"
        }
      ]
    },
    {
      "cell_type": "markdown",
      "metadata": {
        "id": "jvmufKVhRZFP"
      },
      "source": [
        "Making the actual predictions upon the test data"
      ]
    },
    {
      "cell_type": "code",
      "metadata": {
        "id": "QcBAc2JB30JQ"
      },
      "source": [
        "test_pred = model.predict([input_ids_test, attention_masks_test], batch_size=32)\r\n",
        "test_pred = test_pred.argmax(axis=1)\r\n",
        "#print(test_pred)"
      ],
      "execution_count": 294,
      "outputs": []
    },
    {
      "cell_type": "markdown",
      "metadata": {
        "id": "Q0m6pkN6Rh4A"
      },
      "source": [
        "Finally, creating a submission csv file as required with the URLID and it's generated predictions"
      ]
    },
    {
      "cell_type": "code",
      "metadata": {
        "id": "idN1sRN9X3Y6",
        "colab": {
          "base_uri": "https://localhost:8080/",
          "height": 35
        },
        "outputId": "b864aa44-ae41-4593-b3cb-0020ba37cdbc"
      },
      "source": [
        "\"\"\"\r\n",
        "data_test['label'] = test_pred\r\n",
        "data_test.to_csv('submission.csv', columns = ['urlid', 'label'], index = False)\r\n",
        "\"\"\""
      ],
      "execution_count": 295,
      "outputs": [
        {
          "output_type": "execute_result",
          "data": {
            "application/vnd.google.colaboratory.intrinsic+json": {
              "type": "string"
            },
            "text/plain": [
              "\"\\ndata_test['label'] = test_pred\\ndata_test.to_csv('submission.csv', columns = ['urlid', 'label'], index = False)\\n\""
            ]
          },
          "metadata": {
            "tags": []
          },
          "execution_count": 295
        }
      ]
    },
    {
      "cell_type": "code",
      "metadata": {
        "id": "Crj8Gx0xYeUE",
        "colab": {
          "base_uri": "https://localhost:8080/",
          "height": 35
        },
        "outputId": "b726f589-133a-4e44-aa40-4d2e0b9d1255"
      },
      "source": [
        "\"\"\"\r\n",
        "from google.colab import files\r\n",
        "files.download('submission.csv')\r\n",
        "\"\"\""
      ],
      "execution_count": 296,
      "outputs": [
        {
          "output_type": "execute_result",
          "data": {
            "application/vnd.google.colaboratory.intrinsic+json": {
              "type": "string"
            },
            "text/plain": [
              "\"\\nfrom google.colab import files\\nfiles.download('submission.csv')\\n\""
            ]
          },
          "metadata": {
            "tags": []
          },
          "execution_count": 296
        }
      ]
    },
    {
      "cell_type": "code",
      "metadata": {
        "id": "vvM_OgVRaXO0"
      },
      "source": [
        ""
      ],
      "execution_count": 296,
      "outputs": []
    }
  ]
}